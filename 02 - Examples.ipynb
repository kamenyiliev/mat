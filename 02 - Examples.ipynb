{
 "cells": [
  {
   "cell_type": "markdown",
   "id": "44b0fbf0",
   "metadata": {},
   "source": [
    "Task 1 (temperature conversion):\n",
    "\n",
    "write a program that:\n",
    "- asks the user to enter temperature in degrees Celsius\n",
    "- converts this value to degrees Fahrenheit\n",
    "- prints the result\n",
    "- in case if the temperature is more than 100 degrees Fahrenheit, also print text \"That's too hot!\" (or another message)\n",
    "\n",
    "`C * 1.8000 + 32.00`"
   ]
  },
  {
   "cell_type": "code",
   "execution_count": 4,
   "id": "227412f7",
   "metadata": {},
   "outputs": [
    {
     "name": "stdout",
     "output_type": "stream",
     "text": [
      "Enter temperature in degrees Celsius: 40.5\n",
      "104.9\n",
      "That's too hot!\n"
     ]
    }
   ],
   "source": [
    "deg_c = input(\"Enter temperature in degrees Celsius: \")\n",
    "\n",
    "# you need to implement conversion here\n",
    "deg_f = float(deg_c) * 1.8 + 32\n",
    "\n",
    "print(deg_f)\n",
    "\n",
    "if deg_f > 100:\n",
    "    print(\"That's too hot!\")\n"
   ]
  },
  {
   "cell_type": "markdown",
   "id": "8d4a4647",
   "metadata": {},
   "source": [
    "write a program that goes through numbers from 0 to 50:\n",
    "- if the number is divisible by 3, print \"Fizz\"\n",
    "- if the number is divisible by 5, print \"Buzz\"\n",
    "- if the number is divisible by 15, print \"FizzBuzz\"\n",
    "- ... in all other cases print the number itself\n"
   ]
  },
  {
   "cell_type": "code",
   "execution_count": 9,
   "id": "1be0e1f0",
   "metadata": {},
   "outputs": [
    {
     "name": "stdout",
     "output_type": "stream",
     "text": [
      "FizzBuzz\n",
      "1\n",
      "2\n",
      "Fizz\n",
      "4\n",
      "Buzz\n",
      "Fizz\n",
      "7\n",
      "8\n",
      "Fizz\n",
      "Buzz\n",
      "11\n",
      "Fizz\n",
      "13\n",
      "14\n",
      "FizzBuzz\n",
      "16\n",
      "17\n",
      "Fizz\n",
      "19\n",
      "Buzz\n",
      "Fizz\n",
      "22\n",
      "23\n",
      "Fizz\n",
      "Buzz\n",
      "26\n",
      "Fizz\n",
      "28\n",
      "29\n",
      "FizzBuzz\n",
      "31\n",
      "32\n",
      "Fizz\n",
      "34\n",
      "Buzz\n",
      "Fizz\n",
      "37\n",
      "38\n",
      "Fizz\n",
      "Buzz\n",
      "41\n",
      "Fizz\n",
      "43\n",
      "44\n",
      "FizzBuzz\n",
      "46\n",
      "47\n",
      "Fizz\n",
      "49\n"
     ]
    }
   ],
   "source": [
    "for x in range(0,50):\n",
    "    if x % 15 == 0:\n",
    "        print(\"FizzBuzz\")\n",
    "\n",
    "    elif x % 3 == 0:\n",
    "        print(\"Fizz\")\n",
    "        \n",
    "    elif x % 5 == 0:\n",
    "        print(\"Buzz\")\n",
    "\n",
    "    else:\n",
    "        print(x)"
   ]
  },
  {
   "cell_type": "markdown",
   "id": "2c351887",
   "metadata": {},
   "source": [
    "write a program that:\n",
    "- asks a user to enter an integer number\n",
    "- prints the length of the number in digits\n",
    "- calculates and prints the sum and the product (multiplication) of all digits of this number \n"
   ]
  },
  {
   "cell_type": "code",
   "execution_count": 17,
   "id": "11c20c2b",
   "metadata": {},
   "outputs": [
    {
     "name": "stdout",
     "output_type": "stream",
     "text": [
      "Enter an integer: 3443467\n",
      "Length: 7\n",
      "Sum: 31\n",
      "Product: 24192\n"
     ]
    }
   ],
   "source": [
    "num = input(\"Enter an integer: \")\n",
    "\n",
    "print(\"Length:\", len(num))\n",
    "\n",
    "res_sum = 0\n",
    "res_mult = 1\n",
    "\n",
    "# let us leave the \"num\" as a string\n",
    "for char in num:\n",
    "    char_num = int(char)\n",
    "    \n",
    "    res_sum = res_sum + char_num\n",
    "    res_mult = res_mult * char_num\n",
    "\n",
    "print(\"Sum:\", res_sum)\n",
    "print(\"Product:\", res_mult)"
   ]
  },
  {
   "cell_type": "code",
   "execution_count": 34,
   "id": "894a659a",
   "metadata": {},
   "outputs": [
    {
     "name": "stdout",
     "output_type": "stream",
     "text": [
      "e: 76\n",
      "a: 45\n",
      "t: 44\n",
      "o: 42\n",
      "i: 39\n",
      "n: 39\n",
      "r: 32\n",
      "s: 30\n",
      "c: 23\n",
      "l: 21\n"
     ]
    }
   ],
   "source": [
    "text = \"\"\"The Peripheral is an American science fiction streaming television series\n",
    "executive - produced and created by Scott Smith. Produced by Amazon, it is loosely\n",
    "based on the 2014 book of the same name, written by William Gibson. \n",
    "\n",
    "Westworld creators Jonathan Nolan and Lisa Joy serve as executive producers, \n",
    "along with Athena Wickham, Steve Hoban, and Vincenzo Natali. Set roughly \n",
    "a decade in the future, with new technology that has changed society in subtle ways,\n",
    "a VR gamer is delivered a connection to an alternate reality as well as a dark future \n",
    "of her own.\n",
    "\n",
    "The series had its world premiere on October 11, 2022, at \n",
    "the Ace Hotel in Los Angeles, before its debut on October 21, 2022, \n",
    "on Amazon Prime Video.\n",
    "\"\"\"\n",
    "\n",
    "# split text into letters\n",
    "text = text.replace(\" \", \"\")\n",
    "letters = list(text)\n",
    "\n",
    "result = {}\n",
    "\n",
    "# count the number of every letter in the text\n",
    "for letter in letters:\n",
    "    \n",
    "    # increate the count of the current letter\n",
    "    result[letter] = result.get(letter, 0) + 1\n",
    "\n",
    "# display the results\n",
    "\n",
    "for key in sorted(result, key=lambda x: result[x], reverse=True)[:10]:\n",
    "    print(f\"{key}: {result[key]}\")\n"
   ]
  }
 ],
 "metadata": {
  "kernelspec": {
   "display_name": "Python 3 (ipykernel)",
   "language": "python",
   "name": "python3"
  },
  "language_info": {
   "codemirror_mode": {
    "name": "ipython",
    "version": 3
   },
   "file_extension": ".py",
   "mimetype": "text/x-python",
   "name": "python",
   "nbconvert_exporter": "python",
   "pygments_lexer": "ipython3",
   "version": "3.9.16"
  }
 },
 "nbformat": 4,
 "nbformat_minor": 5
}
